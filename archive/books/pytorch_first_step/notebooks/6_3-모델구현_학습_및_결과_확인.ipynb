{
 "cells": [
  {
   "cell_type": "markdown",
   "metadata": {},
   "source": [
    "## "
   ]
  },
  {
   "cell_type": "code",
   "execution_count": 3,
   "metadata": {},
   "outputs": [],
   "source": [
    "import torch\n",
    "import torch.nn as nn\n",
    "import torch.optim as optim\n",
    "import numpy as np\n",
    "\n",
    "n_hidden =35\n",
    "lr = 0.01\n",
    "epochs = 1000\n",
    "\n",
    "string =\"hello pytorch. how long can a rnn cell remember?\"\n",
    "chars = \"abcdefghijklmnopqrstuvwxyz ?!.,:;01\"\n",
    "char_list = [ c for c in chars ]\n",
    "n_letters = len(char_list)"
   ]
  },
  {
   "cell_type": "code",
   "execution_count": 4,
   "metadata": {},
   "outputs": [],
   "source": [
    "def string2onehot( string ):\n",
    "    start = np.zeros( shape=len(char_list), dtype=int )\n",
    "    end = np.zeros( shape=len(char_list), dtype=int )\n",
    "    start[-2] = 1\n",
    "    end[-1]   = 1\n",
    "    for i in string:\n",
    "        index = char_list.index( i )\n",
    "        zero = np.zeros( shape = n_letters, dtype=int )\n",
    "        zero[ index ] = 1\n",
    "        start = np.vstack( [start, zero] )\n",
    "    output = np.vstack( [start, end] )\n",
    "    return output\n",
    "\n",
    "def onehot2word( onethot_1 ):\n",
    "    onehot = torch.Tensor.numpy( onehot_1 )\n",
    "    return char_list[ onehot.argmax() ]"
   ]
  },
  {
   "cell_type": "code",
   "execution_count": null,
   "metadata": {},
   "outputs": [],
   "source": []
  }
 ],
 "metadata": {
  "kernelspec": {
   "display_name": "Python 3",
   "language": "python",
   "name": "python3"
  },
  "language_info": {
   "codemirror_mode": {
    "name": "ipython",
    "version": 3
   },
   "file_extension": ".py",
   "mimetype": "text/x-python",
   "name": "python",
   "nbconvert_exporter": "python",
   "pygments_lexer": "ipython3",
   "version": "3.8.1"
  }
 },
 "nbformat": 4,
 "nbformat_minor": 4
}
