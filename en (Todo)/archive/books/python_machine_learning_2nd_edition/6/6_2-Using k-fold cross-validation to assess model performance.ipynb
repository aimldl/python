{
 "cells": [
  {
   "cell_type": "markdown",
   "metadata": {},
   "source": [
    "# 6.2. Using k-fold cross-validation to assess model performance\n",
    "\n",
    "## Source\n",
    "New part\n",
    "* [Streamlining workflows with pipelines](https://render.githubusercontent.com/view/ipynb?commit=1b01e733d15a1808ebdb0e07e46dbb9cb1634323&enc_url=68747470733a2f2f7261772e67697468756275736572636f6e74656e742e636f6d2f72617362742f707974686f6e2d6d616368696e652d6c6561726e696e672d626f6f6b2d326e642d65646974696f6e2f316230316537333364313561313830386562646230653037653436646262396362313633343332332f636f64652f636830362f636830362e6970796e62&nwo=rasbt%2Fpython-machine-learning-book-2nd-edition&path=code%2Fch06%2Fch06.ipynb&repository_id=81413897&repository_type=Repository#Streamlining-workflows-with-pipelines)\n",
    "\n",
    "Related Parts\n",
    "* [Using k-fold cross-validation to assess model performance](https://render.githubusercontent.com/view/ipynb?commit=1b01e733d15a1808ebdb0e07e46dbb9cb1634323&enc_url=68747470733a2f2f7261772e67697468756275736572636f6e74656e742e636f6d2f72617362742f707974686f6e2d6d616368696e652d6c6561726e696e672d626f6f6b2d326e642d65646974696f6e2f316230316537333364313561313830386562646230653037653436646262396362313633343332332f636f64652f636830362f636830362e6970796e62&nwo=rasbt%2Fpython-machine-learning-book-2nd-edition&path=code%2Fch06%2Fch06.ipynb&repository_id=81413897&repository_type=Repository#Using-k-fold-cross-validation-to-assess-model-performance)\n",
    "\n",
    "\n",
    "## Summary\n",
    "* Problem: Binary classification with class 0 (B or Benign) & class 1 (M or Malignant)\n",
    "* Dataset: Breast Cancer Wisconsin Dataset\n",
    "* Classifier: LogisticRegression with liblinear\n",
    "\n",
    "K-fold cross-validation is used to assess the model performance. In this example, the dataset is divided into 10 folds. One fold is used to validate the performance and the rest is used to train the model. Each of 10 folds are selected for 10 set of training and validation.\n",
    "\n",
    "K-fold cross-validation method is compared to the holdoud method in the following figures. For details, read [Using k-fold cross-validation to assess model performance](https://render.githubusercontent.com/view/ipynb?commit=1b01e733d15a1808ebdb0e07e46dbb9cb1634323&enc_url=68747470733a2f2f7261772e67697468756275736572636f6e74656e742e636f6d2f72617362742f707974686f6e2d6d616368696e652d6c6561726e696e672d626f6f6b2d326e642d65646974696f6e2f316230316537333364313561313830386562646230653037653436646262396362313633343332332f636f64652f636830362f636830362e6970796e62&nwo=rasbt%2Fpython-machine-learning-book-2nd-edition&path=code%2Fch06%2Fch06.ipynb&repository_id=81413897&repository_type=Repository#Using-k-fold-cross-validation-to-assess-model-performance).\n",
    "\n",
    "1. The Holdout Method\n",
    "<img src='images/6_2-the_holdout_method.png'>\n",
    "\n",
    "2. K-fold Cross-Validation\n",
    "<img src='images/6_2-k-fold_cross-validation_method.png'>\n",
    "\n",
    "## Code"
   ]
  },
  {
   "cell_type": "markdown",
   "metadata": {},
   "source": [
    "## Load the data"
   ]
  },
  {
   "cell_type": "code",
   "execution_count": 1,
   "metadata": {},
   "outputs": [],
   "source": [
    "import pandas as pd\n",
    "from sklearn.preprocessing import LabelEncoder\n",
    "from sklearn.model_selection import train_test_split\n",
    "\n",
    "# Fetch the dataset\n",
    "url2breast_cancer_wisconsin_dataset='https://archive.ics.uci.edu/ml/machine-learning-databases/breast-cancer-wisconsin/wdbc.data'\n",
    "url2dataset = url2breast_cancer_wisconsin_dataset\n",
    "df = pd.read_csv( url2dataset, header=None)\n",
    "\n",
    "# Get the actual data & label from the dataset\n",
    "X = df.loc[:, 2:].values # actual data\n",
    "y = df.loc[:, 1].values  # label\n",
    "\n",
    "# Encode B to 0 and M to 1\n",
    "le = LabelEncoder()\n",
    "y = le.fit_transform(y)\n",
    "\n",
    "# Split to train & test data\n",
    "test_over_train_ratio = 0.2\n",
    "random_seed = 1\n",
    "X_train, X_test, y_train, y_test = train_test_split( X, y, test_size=test_over_train_ratio, stratify=y, random_state=random_seed )"
   ]
  },
  {
   "cell_type": "code",
   "execution_count": 32,
   "metadata": {},
   "outputs": [
    {
     "name": "stdout",
     "output_type": "stream",
     "text": [
      "(455, 30) (114, 30)\n"
     ]
    }
   ],
   "source": [
    "print(f\"{X_train.shape} {X_test.shape}\" )"
   ]
  },
  {
   "cell_type": "markdown",
   "metadata": {},
   "source": [
    "## Pipeline"
   ]
  },
  {
   "cell_type": "code",
   "execution_count": 2,
   "metadata": {},
   "outputs": [],
   "source": [
    "from sklearn.preprocessing import StandardScaler\n",
    "from sklearn.decomposition import PCA\n",
    "from sklearn.linear_model import LogisticRegression\n",
    "from sklearn.pipeline import make_pipeline\n",
    "\n",
    "# Set up the classifier with pipeline\n",
    "pipe_lr = make_pipeline( StandardScaler(),\n",
    "                         PCA(n_components=2),\n",
    "                         LogisticRegression(solver='liblinear',random_state=random_seed)\n",
    "                       )"
   ]
  },
  {
   "cell_type": "markdown",
   "metadata": {},
   "source": [
    "## K-fold Cross Validation"
   ]
  },
  {
   "cell_type": "code",
   "execution_count": 38,
   "metadata": {},
   "outputs": [],
   "source": [
    "import numpy as np\n",
    "from sklearn.model_selection import StratifiedKFold\n",
    "\n",
    "kfold = StratifiedKFold( n_splits=10, random_state=1).split( X_train, y_train )\n",
    "list_accuracy = []"
   ]
  },
  {
   "cell_type": "code",
   "execution_count": 39,
   "metadata": {},
   "outputs": [
    {
     "name": "stdout",
     "output_type": "stream",
     "text": [
      "fold  1, class distribution [256 153], accuracy 0.935\n",
      "fold  2, class distribution [256 153], accuracy 0.935\n",
      "fold  3, class distribution [256 153], accuracy 0.957\n",
      "fold  4, class distribution [256 153], accuracy 0.957\n",
      "fold  5, class distribution [256 153], accuracy 0.935\n",
      "fold  6, class distribution [257 153], accuracy 0.956\n",
      "fold  7, class distribution [257 153], accuracy 0.978\n",
      "fold  8, class distribution [257 153], accuracy 0.933\n",
      "fold  9, class distribution [257 153], accuracy 0.956\n",
      "fold 10, class distribution [257 153], accuracy 0.956\n"
     ]
    }
   ],
   "source": [
    "for k, (index_train, index_test) in enumerate(kfold):\n",
    "    # Select the k-th data from the indices.\n",
    "    X_train_k, y_train_k = X_train[index_train], y_train[index_train]\n",
    "    X_valid_k, y_valid_k = X_train[index_test], y_train[index_test]\n",
    "\n",
    "    # Train and evaluate with the selected k-th dataset\n",
    "    pipe_lr.fit( X_train_k, y_train_k )\n",
    "    accuracy = pipe_lr.score( X_valid_k, y_valid_k )\n",
    "    list_accuracy.append( accuracy )\n",
    "    \n",
    "    distribution = np.bincount( y_train_k )\n",
    "    print( 'fold %2d, class distribution %s, accuracy %.3f' % (k+1, distribution, accuracy))"
   ]
  },
  {
   "cell_type": "code",
   "execution_count": 40,
   "metadata": {},
   "outputs": [
    {
     "name": "stdout",
     "output_type": "stream",
     "text": [
      "Accuracy of k-fold cross validation = 0.950 +/- 0.014\n"
     ]
    }
   ],
   "source": [
    "mean_accuracy = np.mean( list_accuracy )\n",
    "std_accuracy = np.std( list_accuracy)\n",
    "print( 'Accuracy of k-fold cross validation = %.3f +/- %.3f' % (mean_accuracy, std_accuracy) )"
   ]
  },
  {
   "cell_type": "markdown",
   "metadata": {},
   "source": [
    "The following part is done by me. The accuracy is depicted by matplotlib."
   ]
  },
  {
   "cell_type": "code",
   "execution_count": 71,
   "metadata": {},
   "outputs": [
    {
     "data": {
      "text/plain": [
       "<matplotlib.collections.PolyCollection at 0x7fa313852860>"
      ]
     },
     "execution_count": 71,
     "metadata": {},
     "output_type": "execute_result"
    },
    {
     "data": {
      "image/png": "[encoded data removed]",
      "text/plain": [
       "<Figure size 432x288 with 1 Axes>"
      ]
     },
     "metadata": {
      "needs_background": "light"
     },
     "output_type": "display_data"
    }
   ],
   "source": [
    "import matplotlib.pyplot as plt\n",
    "%matplotlib inline\n",
    "\n",
    "num_validations = len( list_accuracy )\n",
    "xs = range(num_validations)  # Xs or plural of x\n",
    "\n",
    "# Plot each accuracy\n",
    "plt.plot( xs, list_accuracy, 'o-' )\n",
    "plt.grid()\n",
    "plt.axis([-1, 10, 0.9, 1.0])\n",
    "plt.title('K-Fold Cross-Validation')\n",
    "plt.xlabel('k-th Fold')\n",
    "plt.ylabel('Accuracy (%)')\n",
    "\n",
    "# Plot the mean and standard deviation of accuracy\n",
    "# color='black', marker='--'\n",
    "ys_mean = mean_accuracy*np.ones(num_validations)\n",
    "ys_upper_bound = ( mean_accuracy+std_accuracy )*np.ones(num_validations)\n",
    "ys_lower_bound = ( mean_accuracy-std_accuracy )*np.ones(num_validations)\n",
    "plt.plot( xs, ys_mean, 'k--')\n",
    "plt.fill_between( xs, ys_upper_bound, ys_lower_bound, alpha=0.15, color='blue')"
   ]
  },
  {
   "cell_type": "markdown",
   "metadata": {},
   "source": [
    "## cross_val_score: Sklearn's Built-in Cross Validation Tool"
   ]
  },
  {
   "cell_type": "code",
   "execution_count": 75,
   "metadata": {},
   "outputs": [
    {
     "name": "stdout",
     "output_type": "stream",
     "text": [
      "Accuracy of k-fold cross validation:\n",
      "[0.93478261 0.93478261 0.95652174 0.95652174 0.93478261 0.95555556\n",
      " 0.97777778 0.93333333 0.95555556 0.95555556]\n",
      "0.950 +/- 0.014\n"
     ]
    }
   ],
   "source": [
    "from sklearn.model_selection import cross_val_score\n",
    "\n",
    "list_accuracy = cross_val_score( estimator=pipe_lr, X=X_train, y=y_train, cv=10, n_jobs=1 )\n",
    "mean_accuracy = np.mean(list_accuracy)\n",
    "std_accuracy = np.std( list_accuracy)\n",
    "\n",
    "print( 'Accuracy of k-fold cross validation:' )\n",
    "print(f'{list_accuracy}' )\n",
    "print( '%.3f +/- %.3f' % (mean_accuracy, std_accuracy) )"
   ]
  }
 ],
 "metadata": {
  "kernelspec": {
   "display_name": "Python 3",
   "language": "python",
   "name": "python3"
  },
  "language_info": {
   "codemirror_mode": {
    "name": "ipython",
    "version": 3
   },
   "file_extension": ".py",
   "mimetype": "text/x-python",
   "name": "python",
   "nbconvert_exporter": "python",
   "pygments_lexer": "ipython3",
   "version": "3.7.3"
  }
 },
 "nbformat": 4,
 "nbformat_minor": 2
}
