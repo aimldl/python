{
 "cells": [
  {
   "cell_type": "markdown",
   "metadata": {},
   "source": []
  },
  {
   "cell_type": "markdown",
   "metadata": {},
   "source": [
    "# Data Visualization\n",
    "Make great data visualizations. A great way to see the power of coding!\n",
    "https://www.kaggle.com/learn/data-visualization\n",
    "\n",
    "## Instructor\n",
    "* Alexis Cook, AI Educator\n",
    "\n",
    "Alexis has taught data science for several online learning platforms, including Udacity. She holds degrees from Duke University, the University of Michigan, and Brown University.\n",
    "\n",
    "## Lessons\n",
    "1. Hello, Seaborn\n",
    "2. Line Charts\n",
    "3. Bar Charts and Heatmaps\n",
    "4. Scatter Plots\n",
    "5. Distributions\n",
    "6. Choosing Plot Types and Custom Styles\n",
    "7. Final Project\n",
    "8. Creating Your Own Notebooks"
   ]
  },
  {
   "cell_type": "markdown",
   "metadata": {},
   "source": [
    "### 1. Hello, Seaborn\n",
    "### 2. Line Charts\n",
    "### 3. Bar Charts and Heatmaps\n",
    "### 4. Scatter Plots\n",
    "### 5. Distributions\n",
    "### 6. Choosing Plot Types and Custom Styles\n",
    "### 7. Final Project\n",
    "### 8. Creating Your Own Notebooks"
   ]
  }
 ],
 "metadata": {
  "kernelspec": {
   "display_name": "conda_python3",
   "language": "python",
   "name": "conda_python3"
  },
  "language_info": {
   "codemirror_mode": {
    "name": "ipython",
    "version": 3
   },
   "file_extension": ".py",
   "mimetype": "text/x-python",
   "name": "python",
   "nbconvert_exporter": "python",
   "pygments_lexer": "ipython3",
   "version": "3.6.10"
  }
 },
 "nbformat": 4,
 "nbformat_minor": 4
}
